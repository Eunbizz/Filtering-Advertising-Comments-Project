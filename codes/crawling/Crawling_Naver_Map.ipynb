{
 "cells": [
  {
   "cell_type": "code",
   "execution_count": 150,
   "id": "f3d27d50",
   "metadata": {},
   "outputs": [],
   "source": [
    "# 최종 코드 \n",
    "import csv \n",
    "from selenium import webdriver \n",
    "from selenium.webdriver.common.by import By\n",
    "from selenium.webdriver.common.keys import Keys\n",
    "import time \n",
    "\n",
    "# 1. 네이버 지도 키기, \"강남 헤어샵 검색\"\n",
    "browser = webdriver.Chrome()\n",
    "browser.get(\"https://m.map.naver.com/search2/search.naver?query=%EA%B0%95%EB%82%A8%20%ED%97%A4%EC%96%B4%EC%83%B5&sm=hty&style=v5\")\n",
    "\n",
    "# 2. 헤어샵 이름 검색 \n",
    "shops = []\n",
    "hair_shops = browser.find_elements(By.CSS_SELECTOR, '.item_tit')\n",
    "for s in hair_shops[:3]: #가게 총 20개만 추가 \n",
    "    shops.append(s.text)\n",
    "\n",
    "# 10초 대기 \n",
    "browser.implicitly_wait(3)\n",
    "\n",
    "# csv 파일 생성\n",
    "f = open('naver.csv', 'w', encoding=\"utf-8-sig\", newline='')\n",
    "w = csv.writer(f)\n",
    "w.writerow(['헤어샵 이름', '작성자', '방문횟수', '리뷰'])\n",
    "\n",
    "\n",
    "for j in range(len(shops)):\n",
    "    total_reviews = []\n",
    "    total_writers = []\n",
    "    visit_nums = []\n",
    "    \n",
    "    # 3. 헤어샵 검색\n",
    "    browser.get(f\"https://m.map.naver.com/search2/search.naver?query={shops[j]}\")\n",
    "    \n",
    "    browser.implicitly_wait(3) #대기 \n",
    "    \n",
    "    # 헤어샵 들어가기 \n",
    "    shop_button = browser.find_element(By.CSS_SELECTOR, '#ct > div.search_listview._content._ctList > ul > li > div.item_info > a.a_item.a_item_distance._linkSiteview > div > strong')\n",
    "    shop_button.click()\n",
    "    \n",
    "    # 4. 리뷰로 가는 란 클릭 \n",
    "    review_button = browser.find_element(By.CSS_SELECTOR, '#app-root > div > div > div > div.place_fixed_maintab > div > div > div > div > a:nth-child(6) > span')\n",
    "    review_button.click()\n",
    "    \n",
    "    browser.implicitly_wait(3) #대기 \n",
    "    \n",
    "    # 5. 더보기 버튼 4번 클릭 (총 50개의 리뷰)\n",
    "    for i in range(2):\n",
    "        more = browser.find_element(By.CLASS_NAME, 'fvwqf')\n",
    "        more.click()\n",
    "        browser.implicitly_wait(3) #대기 \n",
    "    \n",
    "    # Get scroll height\n",
    "    SCROLL_PAUSE_TIME = 1\n",
    "    last_height = browser.execute_script(\n",
    "        \"return document.body.scrollHeight\")  #브라우져 높이를 확인 가능(자바스크립트)\n",
    "\n",
    "    while True:\n",
    "        # Scroll down to bottom\n",
    "        browser.execute_script(\"window.scrollTo(0, document.body.scrollHeight);\"\n",
    "                              )  # 브라우져 끝까지 스크롤을 내리겠다.\n",
    "\n",
    "        # Wait to load page\n",
    "        time.sleep(SCROLL_PAUSE_TIME)  # 페이지 로딩 될 동안 웨잇\n",
    "\n",
    "        # Calculate new scroll height and compare with last scroll height\n",
    "        new_height = browser.execute_script(\"return document.body.scrollHeight\")\n",
    "        if new_height == last_height:  # 스크롤이 끝까지 내려가서 더이상 내릴 것이 없을 때\n",
    "            try:\n",
    "                browser.find_element_by_css_selector(\n",
    "                    \".mye4qd\").click()  # 검색어 더 찾아보기 클릭\n",
    "            except:\n",
    "                break\n",
    "        last_height = new_height\n",
    "    \n",
    "    # 6. 리뷰 검색 및 text 추가\n",
    "    reviews = browser.find_elements(By.CLASS_NAME, 'zPfVt')\n",
    "    \n",
    "    for i in reviews:\n",
    "        total_reviews.append(i.text)\n",
    "    \n",
    "    # 7. 작성자 검색 및 text 추가 \n",
    "    writers = browser.find_elements(By.CLASS_NAME, 'sBWyy')\n",
    "    \n",
    "    for i in writers:\n",
    "        total_writers.append(i.text)\n",
    "        \n",
    "    # 8. 방문 횟수 검색 및 text 추가 \n",
    "    nums = browser.find_elements(By.CLASS_NAME, 'P1zUJ')\n",
    "    \n",
    "    for i in nums[5::7]:\n",
    "        visit_nums.append(i.text[0])\n",
    "    \n",
    "    # 9. 이미지는 어떻게 할건지 생각해봐야... \n",
    "    \n",
    "    # 10. csv에 저장 \n",
    "    for i in range(len(total_writers)):\n",
    "        w.writerow([shops[j], total_writers[i], visit_nums[i], total_reviews[i]])\n",
    "    \n",
    "# 12. csv 파일 및 브라우저 닫기 \n",
    "f.close()\n",
    "browser.close() "
   ]
  },
  {
   "cell_type": "code",
   "execution_count": 1,
   "id": "028b66df",
   "metadata": {},
   "outputs": [],
   "source": [
    "# ======================================== 이걸로 돌려야 =======================================================\n",
    "# 함수 버전 \n",
    "# 방문 횟수는 잘못 출력되는 경우가 많아서 일단 빼버림.. \n",
    "import csv \n",
    "from selenium import webdriver \n",
    "from selenium.webdriver.common.by import By\n",
    "from selenium.webdriver.common.keys import Keys\n",
    "from selenium.webdriver.support.ui import WebDriverWait\n",
    "from selenium.webdriver.support import expected_conditions as EC\n",
    "import time \n",
    "from tqdm import tqdm \n",
    "\n",
    "def crawling(location):\n",
    "    # 1. 네이버 지도 키기, \"지역+헤어샵 검색\"\n",
    "    browser = webdriver.Chrome()\n",
    "    wait = WebDriverWait(browser,10) # EC 기다리는 조건 \n",
    "    browser.get(f\"https://m.map.naver.com/search2/search.naver?query={location}헤어샵\")\n",
    "    # 2. 헤어샵 이름 검색 \n",
    "    shops = []\n",
    "    hair_shops = browser.find_elements(By.CSS_SELECTOR, '.item_tit')\n",
    "    for s in hair_shops[:15]: #가게 총 15개만 검색\n",
    "        shops.append(s.text)\n",
    "\n",
    "    # 10초 대기 \n",
    "    browser.implicitly_wait(10) # 10초 대기 \n",
    "\n",
    "    # csv 파일 생성\n",
    "    f = open(f'{location}.csv', 'w', encoding=\"utf-8-sig\", newline='')\n",
    "    w = csv.writer(f)\n",
    "    w.writerow(['헤어샵 이름', '작성자', '리뷰', 'image_url'])\n",
    "\n",
    "\n",
    "    for j in tqdm(range(len(shops))):\n",
    "        total_reviews = []\n",
    "        total_writers = []\n",
    "        # visit_nums = []\n",
    "        url = []\n",
    "\n",
    "        # 3. 헤어샵 검색\n",
    "        browser.get(f\"https://m.map.naver.com/search2/search.naver?query={shops[j]}\")\n",
    "\n",
    "        browser.implicitly_wait(10) #대기 \n",
    "\n",
    "        # 헤어샵 들어가기 \n",
    "        shop_button = browser.find_element(By.CSS_SELECTOR, '#ct > div.search_listview._content._ctList > ul > li > div.item_info > a.a_item.a_item_distance._linkSiteview > div > strong')\n",
    "        shop_button.click()\n",
    "        browser.implicitly_wait(10) # 대기\n",
    "\n",
    "        # 4. 리뷰로 가는 란 클릭 \n",
    "        review_button = wait.until(EC.element_to_be_clickable((By.CSS_SELECTOR, '#app-root > div > div > div > div.place_fixed_maintab > div > div > div > div > a:nth-child(6) > span')))\n",
    "        # review_button = browser.find_element(By.CSS_SELECTOR, '#app-root > div > div > div > div.place_fixed_maintab > div > div > div > div > a:nth-child(6) > span')\n",
    "        if review_button.text != '리뷰': # 버튼이 리뷰가 아니면 다음 헤어샵으로 넘어감\n",
    "            continue \n",
    "        review_button.click()\n",
    "\n",
    "        # browser.implicitly_wait(10) #대기 \n",
    "\n",
    "        # 5. 더보기 버튼 1번 클릭 (총 20개의 리뷰)\n",
    "        for i in range(1):\n",
    "            more = wait.until(EC.element_to_be_clickable((By.CLASS_NAME, 'fvwqf')))\n",
    "            # more = browser.find_element(By.CLASS_NAME, 'fvwqf')\n",
    "            more.click()\n",
    "            # browser.implicitly_wait(10) #대기 \n",
    "\n",
    "        # 스크롤 내리기 (이거 안 내리면 더보기 한 매장들 데이터가 안 불러와짐)\n",
    "        SCROLL_PAUSE_TIME = 1\n",
    "        last_height = browser.execute_script(\n",
    "            \"return document.body.scrollHeight\")  #브라우져 높이를 확인 가능(자바스크립트)\n",
    "\n",
    "        while True:\n",
    "            # Scroll down to bottom\n",
    "            browser.execute_script(\"window.scrollTo(0, document.body.scrollHeight);\"\n",
    "                                  )  # 브라우져 끝까지 스크롤을 내리겠다.\n",
    "\n",
    "            # Wait to load page\n",
    "            time.sleep(SCROLL_PAUSE_TIME)  # 페이지 로딩 될 동안 wait\n",
    "\n",
    "            # Calculate new scroll height and compare with last scroll height\n",
    "            new_height = browser.execute_script(\"return document.body.scrollHeight\")\n",
    "            if new_height == last_height:  # 스크롤이 끝까지 내려가서 더이상 내릴 것이 없을 때\n",
    "                try:\n",
    "                    browser.find_element_by_css_selector(\n",
    "                        \".mye4qd\").click()  # 검색어 더 찾아보기 클릭\n",
    "                except:\n",
    "                    break\n",
    "            last_height = new_height\n",
    "\n",
    "        # 6. 리뷰 검색 및 text 추가\n",
    "        reviews = browser.find_elements(By.CLASS_NAME, 'zPfVt')\n",
    "\n",
    "        for i in reviews:\n",
    "            total_reviews.append(i.text)\n",
    "\n",
    "        # 7. 작성자 검색 및 text 추가 \n",
    "        writers = browser.find_elements(By.CLASS_NAME, 'sBWyy')\n",
    "\n",
    "        for i in writers:\n",
    "            total_writers.append(i.text)\n",
    "        '''\n",
    "        # 8. 방문 횟수 검색 및 text 추가 \n",
    "        nums = browser.find_elements(By.CLASS_NAME, 'P1zUJ')\n",
    "\n",
    "        for i in nums[5::7]:\n",
    "            visit_nums.append(i.text[0])\n",
    "        '''\n",
    "        # 9. 이미지 url 추가 \n",
    "        image = browser.find_elements(By.CLASS_NAME, 'YeINN') \n",
    "        \n",
    "        browser.implicitly_wait(10) # 10초 대기\n",
    "\n",
    "        for i in range(len(image)): \n",
    "            try:\n",
    "                s = image[i].find_element(By.CLASS_NAME, 'K0PDV').get_attribute('style').split('\"')[1]\n",
    "            except:\n",
    "                s = \"None\" # 사진 없으면 None으로 추가\n",
    "            finally:\n",
    "                url.append(s)\n",
    "\n",
    "        # 10. csv에 저장 \n",
    "        count = min(len(total_writers), len(total_reviews), len(url)) # index out of range 나는 경우 있어서 처리\n",
    "        for i in range(count):\n",
    "            w.writerow([shops[j], total_writers[i], total_reviews[i], url[i]])\n",
    "\n",
    "    # 12. csv 파일 및 브라우저 닫기 \n",
    "    f.close()\n",
    "    browser.close() "
   ]
  },
  {
   "cell_type": "code",
   "execution_count": 5,
   "id": "f5b6ef38",
   "metadata": {},
   "outputs": [],
   "source": [
    "# 총 1080개. (강남역=220, 홍대=140, 성수=210, 청담=130, 공덕=220, 사당=160)"
   ]
  },
  {
   "cell_type": "code",
   "execution_count": 15,
   "id": "0302526f",
   "metadata": {},
   "outputs": [],
   "source": [
    "crawling(\"강남역\")"
   ]
  },
  {
   "cell_type": "code",
   "execution_count": 5,
   "id": "76c2ed47",
   "metadata": {
    "scrolled": true
   },
   "outputs": [
    {
     "name": "stderr",
     "output_type": "stream",
     "text": [
      "100%|███████████████████████████████████████████| 15/15 [02:36<00:00, 10.40s/it]\n"
     ]
    }
   ],
   "source": [
    "crawling(\"홍대\")"
   ]
  },
  {
   "cell_type": "code",
   "execution_count": 4,
   "id": "304e9d4d",
   "metadata": {
    "scrolled": true
   },
   "outputs": [
    {
     "name": "stderr",
     "output_type": "stream",
     "text": [
      "100%|███████████████████████████████████████████| 15/15 [05:44<00:00, 22.99s/it]\n"
     ]
    }
   ],
   "source": [
    "crawling(\"성수\")"
   ]
  },
  {
   "cell_type": "code",
   "execution_count": 2,
   "id": "71d4e586",
   "metadata": {},
   "outputs": [
    {
     "name": "stderr",
     "output_type": "stream",
     "text": [
      "100%|███████████████████████████████████████████| 15/15 [06:18<00:00, 25.26s/it]\n"
     ]
    }
   ],
   "source": [
    "crawling(\"청담\")"
   ]
  },
  {
   "cell_type": "code",
   "execution_count": 3,
   "id": "a06cc29a",
   "metadata": {},
   "outputs": [
    {
     "name": "stderr",
     "output_type": "stream",
     "text": [
      "100%|███████████████████████████████████████████| 15/15 [15:16<00:00, 61.07s/it]\n"
     ]
    }
   ],
   "source": [
    "crawling(\"공덕\")"
   ]
  },
  {
   "cell_type": "code",
   "execution_count": 4,
   "id": "d52ccd93",
   "metadata": {},
   "outputs": [
    {
     "name": "stderr",
     "output_type": "stream",
     "text": [
      "100%|███████████████████████████████████████████| 15/15 [12:30<00:00, 50.06s/it]\n"
     ]
    }
   ],
   "source": [
    "crawling(\"사당\")"
   ]
  }
 ],
 "metadata": {
  "kernelspec": {
   "display_name": "Python 3 (ipykernel)",
   "language": "python",
   "name": "python3"
  },
  "language_info": {
   "codemirror_mode": {
    "name": "ipython",
    "version": 3
   },
   "file_extension": ".py",
   "mimetype": "text/x-python",
   "name": "python",
   "nbconvert_exporter": "python",
   "pygments_lexer": "ipython3",
   "version": "3.11.1"
  }
 },
 "nbformat": 4,
 "nbformat_minor": 5
}
