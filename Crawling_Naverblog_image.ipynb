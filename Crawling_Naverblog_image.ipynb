{
 "cells": [
  {
   "cell_type": "code",
   "execution_count": null,
   "id": "a08fcde1",
   "metadata": {},
   "outputs": [],
   "source": [
    "import urllib.request\n",
    "from selenium.common.exceptions import NoSuchElementException\n",
    "from selenium import webdriver\n",
    "from selenium.webdriver.common.by import By\n",
    "from webdriver_manager.chrome import ChromeDriverManager"
   ]
  },
  {
   "cell_type": "code",
   "execution_count": null,
   "id": "55e241f0",
   "metadata": {},
   "outputs": [],
   "source": [
    "#현재 위치 변경\n",
    "import os\n",
    "os.chdir('C:/Users/Yoo Jeong/비타민 프로젝트/이미지4')"
   ]
  },
  {
   "cell_type": "code",
   "execution_count": null,
   "id": "bd618a76",
   "metadata": {},
   "outputs": [],
   "source": [
    "# 웹드라이버 설정\n",
    "options = webdriver.ChromeOptions()\n",
    "options.add_experimental_option(\"excludeSwitches\", [\"enable-automation\"])\n",
    "options.add_experimental_option(\"useAutomationExtension\", False)"
   ]
  },
  {
   "cell_type": "code",
   "execution_count": null,
   "id": "de1b69ca",
   "metadata": {},
   "outputs": [],
   "source": [
    "#본문 크롤링\n",
    "import time\n",
    "from selenium import webdriver\n",
    "\n",
    "# 크롬 드라이버 설치\n",
    "driver = webdriver.Chrome(ChromeDriverManager().install())\n",
    "driver.implicitly_wait(3)"
   ]
  },
  {
   "cell_type": "code",
   "execution_count": null,
   "id": "715dd3a5",
   "metadata": {},
   "outputs": [],
   "source": [
    "from selenium import webdriver\n",
    "import matplotlib.pyplot as plt\n",
    "import time\n",
    " \n",
    "path = \"C:/Users/Yoo Jeong/비타민 프로젝트/chromedriver.exe\"\n",
    " \n",
    "driver = webdriver.Chrome(path) # 드라이버 경로 설정\n",
    "url_list = [] # 블로그 url을 저장하기 위한 변수\n",
    "content_list = \"\" # 블로그 content를 누적하기 위한 변수\n",
    "text = \"내돈내산 미용실\" # 검색어\n",
    " \n",
    "for i in range(1, 34): \n",
    "    url = 'https://section.blog.naver.com/Search/Post.nhn?pageNo='+ str(i) + '&rangeType=ALL&orderBy=sim&keyword=' + text # url 값 설정\n",
    "    driver.get(url)\n",
    "    time.sleep(0.5) # 오류 방지 sleep\n",
    " \n",
    "    for j in range(1, 8):\n",
    "        titles = driver.find_element_by_xpath('/html/body/ui-view/div/main/div/div/section/div[2]/div['+str(j)+']/div/div[1]/div[1]/a[1]')\n",
    "        title = titles.get_attribute('href')\n",
    "        url_list.append(title)\n",
    " \n",
    "print(\"url 수집 끝, 해당 url 데이터 크롤링\")"
   ]
  },
  {
   "cell_type": "code",
   "execution_count": null,
   "id": "8a404cda",
   "metadata": {},
   "outputs": [],
   "source": [
    "import os.path\n",
    "import requests\n",
    "import re\n",
    "import urllib.request\n",
    "from bs4 import BeautifulSoup\n",
    "\n",
    "\n",
    "#블로그 주소 입력 함수\n",
    "def input_url(url_str):\n",
    "    base_url = 'https://blog.naver.com/PostView.naver?blogId='  #크롤링을 위한 베이스 주소\n",
    "    input_url = url_str\n",
    "    id = input_url.split('/')[3]    #아이디 추출\n",
    "    number = input_url.split('/')[4]    #게시글번호 추출\n",
    "    url = base_url+id+'&logNo='+number\n",
    "    return url\n",
    "\n",
    "#블로그 방문 함수\n",
    "def visit_blog(url):\n",
    "    html = requests.get(url).text\n",
    "    return html\n",
    "\n",
    "\n",
    "#블로그 제목 추출 함수\n",
    "def get_title(html):\n",
    "    soup = BeautifulSoup(html, 'html.parser')\n",
    "    contents = str(soup.select('.se-fs-'))  #제목 추출을 위한 셀렉터\n",
    "    hangul = re.compile('[^ ㄱ-ㅣ가-힣]+')  #한글만 따오기 위해\n",
    "    result = hangul.sub('', contents)   \n",
    "    title = result.strip().split('  ')  #공백으로 구분  \n",
    "    return title[0] #0번째 인덱스가 제목\n",
    "\n",
    "\n",
    "\n",
    "#블로그 이미지 추출 함수\n",
    "def get_img_list(html):\n",
    "    soup = BeautifulSoup(html, 'html.parser')\n",
    "    imgs = soup.select('.se-image-resource')\n",
    "    img_list = list()\n",
    "    for img in imgs:\n",
    "        img_list.append(img['data-lazy-src'])   #큰사진의 경로\n",
    "    return img_list\n",
    "\n",
    "\n",
    "def save_img(img_list):\n",
    "    file_no = 0\n",
    "    for j in range(0,len(img_list),1) :    \n",
    "        try :\n",
    "            urllib.request.urlretrieve(img_list[j],title+str(file_no)+'.jpg')\n",
    "        except :\n",
    "            continue        \n",
    "        file_no += 1\n",
    "        time.sleep(0.5)\n",
    "\n",
    "#메인\n",
    "if __name__  == '__main__':\n",
    "    for x in url_list:        \n",
    "        url = input_url(x)\n",
    "        html = visit_blog(url)\n",
    "        title = get_title(html)\n",
    "        img_list = get_img_list(html)\n",
    "        img_cnt = save_img(img_list)\n",
    "        print ('{} 제목의 블로그에서 이미지를 저장했습니다.'.format(title))"
   ]
  }
 ],
 "metadata": {
  "kernelspec": {
   "display_name": "Python 3",
   "language": "python",
   "name": "python3"
  },
  "language_info": {
   "codemirror_mode": {
    "name": "ipython",
    "version": 3
   },
   "file_extension": ".py",
   "mimetype": "text/x-python",
   "name": "python",
   "nbconvert_exporter": "python",
   "pygments_lexer": "ipython3",
   "version": "3.8.8"
  }
 },
 "nbformat": 4,
 "nbformat_minor": 5
}
